{
 "cells": [
  {
   "cell_type": "markdown",
   "metadata": {
    "collapsed": true,
    "slideshow": {
     "slide_type": "slide"
    }
   },
   "source": [
    "<CENTER>\n",
    "<img src=\"./data/PCD.png\" width=\"50%\">\n",
    "\n",
    "  <header>\n",
    "    <h1>Com obtenir superpoders</h1>\n",
    "    <small style='font-size:8px;'>(o com utilitzar llibreríes open source)</small>\n",
    "    <h3>9 Febrer 2019 - Tecnoateneu de Vilablareix</h3>\n",
    "    <h2>@victormartin</h2>\n",
    "    <p></p>\n",
    "  </header>\n",
    "</CENTER>"
   ]
  },
  {
   "cell_type": "markdown",
   "metadata": {
    "slideshow": {
     "slide_type": "slide"
    }
   },
   "source": [
    "# Intro Processing\n",
    "\n",
    "* Llenguatje de programació + entorn de desenvolupament (IDE) de fàcil utilització\n",
    "* Versió simplificada de Java\n",
    "* Utilitzat per la docència i producció de projectes multimèdia\n",
    "* Plataforma referent del moviment _creative programming_\n",
    "* Open Source\n",
    "* Create al MIT Media Lab"
   ]
  },
  {
   "cell_type": "markdown",
   "metadata": {
    "slideshow": {
     "slide_type": "slide"
    }
   },
   "source": [
    "# Processing Environment (IDE)\n",
    "\n",
    "<CENTER style=\"margin-top:2em;\">\n",
    "    <img src=\"./data/IDE.png\" width=\"60%\">\n",
    "</CENTER>"
   ]
  },
  {
   "cell_type": "markdown",
   "metadata": {
    "slideshow": {
     "slide_type": "slide"
    }
   },
   "source": [
    "# Molt guai... pero on estàn els superpoders?\n",
    "\n",
    "<CENTER style=\"margin-top:2em;\">\n",
    "    <img src=\"./data/crew.gif\" width=\"50%\">\n",
    "</CENTER>"
   ]
  },
  {
   "cell_type": "markdown",
   "metadata": {
    "slideshow": {
     "slide_type": "slide"
    }
   },
   "source": [
    "# Principis de \"enginyería\" del software\n",
    "\n",
    "### * KISS (Keep it simple, stupid)\n",
    "### * Don't reinvent the wheel"
   ]
  },
  {
   "cell_type": "markdown",
   "metadata": {
    "slideshow": {
     "slide_type": "slide"
    }
   },
   "source": [
    "# Principis de \"enginyería\" del software\n",
    "\n",
    "### * KISS (Keep it simple, stupid)\n",
    "### * Don't reinvent the wheel\n",
    "\n",
    "<CENTER style=\"margin-top:2em;\">\n",
    "    <img src=\"./data/donotreinventthewheel.gif\" width=\"40%\">\n",
    "</CENTER>"
   ]
  },
  {
   "cell_type": "markdown",
   "metadata": {
    "slideshow": {
     "slide_type": "slide"
    }
   },
   "source": [
    "# Principis de \"enginyería\" del software\n",
    "\n",
    "### * KISS (Keep it simple, stupid)\n",
    "### * Don't reinvent the wheel\n",
    "\n",
    "<CENTER style=\"margin-top:2em;\">\n",
    "    <img src=\"./data/donotreinventthewheel.gif\" width=\"40%\">\n",
    "    <span style=\"font-size:8em;\">💩💩</span>\n",
    "</CENTER>"
   ]
  },
  {
   "cell_type": "markdown",
   "metadata": {
    "slideshow": {
     "slide_type": "slide"
    }
   },
   "source": [
    "# Open source\n",
    "\n",
    "* Software on el codi font és _lliberat_ sota una llicència que permet a tothom estudiar-lo, modificar-lo i distribuir-lo\n",
    "* Normalment es desenvolupa de forma col.laborativa\n",
    "* Internet i plataformes com github.com faciliten aquesta col.laboració\n",
    "* Les *llibreríes* _lliures_ permeten que es facin servir dins de programes de tercers"
   ]
  },
  {
   "cell_type": "markdown",
   "metadata": {
    "slideshow": {
     "slide_type": "slide"
    }
   },
   "source": [
    "# Ara sí, els superpoders!\n",
    "\n",
    "Podem utilitzar _llibreríes_ open source per als nostres projectes personals i/o profesionals!\n",
    "\n",
    "<CENTER style=\"margin-top:2em;\">\n",
    "    <img src=\"./data/hulk.gif\" width=\"40%\">\n",
    "</CENTER>\n",
    "\n",
    "En altres paraules... ens beneficiem _per la patilla_ de hores i hores de feina d'altres programadors"
   ]
  },
  {
   "cell_type": "markdown",
   "metadata": {
    "slideshow": {
     "slide_type": "slide"
    }
   },
   "source": [
    "# DEBAT\n",
    "\n",
    "1) Optimització de recursos vs \"vaguisme empedernit\"\n",
    "\n",
    "2) NIHS (Not invented here syndrome) vs PFE (Proudly found elsewhere)\n",
    "\n"
   ]
  },
  {
   "cell_type": "markdown",
   "metadata": {
    "slideshow": {
     "slide_type": "slide"
    }
   },
   "source": [
    "# Exemple projecte open source: Processing\n",
    "\n",
    "### https://github.com/processing/processing\n",
    "\n",
    "* Repositoris\n",
    "* Markdown! (README.md & CONTRIBUTING.md)\n",
    "* Issues\n",
    "* Commits\n",
    "* Forks\n",
    "* Pull Requests"
   ]
  },
  {
   "cell_type": "markdown",
   "metadata": {
    "slideshow": {
     "slide_type": "slide"
    }
   },
   "source": [
    "# Ull, no tot són flors i violes!\n",
    "\n",
    "\n",
    "<CENTER style=\"margin-top:2em;\">\n",
    "    <img src=\"./data/fail.gif\" width=\"40%\">\n",
    "</CENTER>\n",
    "\n",
    "  * Mala documentació\n",
    "  * Immatury / desactualizades / incompatibles / abandonades\n",
    "  * Mal suport / inexistent?\n",
    "  * Bugs\n",
    "  * Fragmentació d'ecosistema -> Llistes awesome!"
   ]
  },
  {
   "cell_type": "markdown",
   "metadata": {
    "slideshow": {
     "slide_type": "slide"
    }
   },
   "source": [
    "# Llibreríes Processing\n",
    "\n",
    "### https://processing.org/reference/libraries/\n",
    "\n",
    "### Instal.lació\n",
    "* Mitjançant l'entorn (Sketch->Import Library)\n",
    "* De forma manual: https://github.com/processing/processing/wiki/How-to-Install-a-Contributed-Library\n",
    "\n",
    "### Alguns exemples:  https://processing.org/reference/libraries/\n",
    "\n",
    "* Fisica: http://www.ricardmarxer.com/fisica/\n",
    "* Kinect: https://shiffman.net/p5/kinect/"
   ]
  },
  {
   "cell_type": "markdown",
   "metadata": {
    "slideshow": {
     "slide_type": "slide"
    }
   },
   "source": [
    "# Projecte exemple: KinectBasketball\n",
    "\n",
    "## Lliberat com open-source ;)"
   ]
  }
 ],
 "metadata": {
  "celltoolbar": "Slideshow",
  "kernelspec": {
   "display_name": "Python2 (systemia-research)",
   "language": "python",
   "name": "systemia-research"
  },
  "language_info": {
   "codemirror_mode": {
    "name": "ipython",
    "version": 2
   },
   "file_extension": ".py",
   "mimetype": "text/x-python",
   "name": "python",
   "nbconvert_exporter": "python",
   "pygments_lexer": "ipython2",
   "version": "2.7.9"
  }
 },
 "nbformat": 4,
 "nbformat_minor": 1
}
