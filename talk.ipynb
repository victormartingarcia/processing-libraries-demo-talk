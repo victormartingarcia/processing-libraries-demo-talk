{
 "cells": [
  {
   "cell_type": "markdown",
   "metadata": {
    "collapsed": true,
    "slideshow": {
     "slide_type": "slide"
    }
   },
   "source": [
    "<CENTER>\n",
    "<img src=\"./data/PCD.png\" width=\"50%\">\n",
    "\n",
    "  <header>\n",
    "    <h1>Com obtenir superpoders</h1>\n",
    "    <small style='font-size:8px;'>(o com utilitzar llibreríes open source)</small>\n",
    "    <h3>9 Febrer 2019 - Tecnoateneu de Vilablareix</h3>\n",
    "    <h2>@victormartin</h2>\n",
    "    <p></p>\n",
    "  </header>\n",
    "</CENTER>"
   ]
  },
  {
   "cell_type": "markdown",
   "metadata": {
    "slideshow": {
     "slide_type": "slide"
    }
   },
   "source": [
    "\n",
    "# TODO: Slides draft\n",
    "\n",
    "* No reinventar la roda... en programació està tot inventat? (GIF!)\n",
    "* Què son les llibreríes (open source)? \n",
    "* Convertir-te en super-heroi fent servir llibreríes open source (GIF looser spiderman)\n",
    "* [DEBAT] Optimització de recursos o 'vaguisme empedernit'?  (GIF)\n",
    "* No tot son flors i violes!! (GIF https://giphy.com/gifs/fail-treadmill-gangsta-KSMFlpSRzTeZG)\n",
    "  * Mala documentació\n",
    "  * Desactualizades / incompatibles / abandonades\n",
    "  * Bugs\n",
    "* Com instal.lar llibreríes a Processing (gestor paquets? copiar a folder /Documents/processing/libraries)\n",
    "* EXEMPLE KINECT BASKETBALL\n",
    "  * LLibrería kinect\n",
    "  * Llibrería fisica\n",
    "  * (... so? edició imatge?))\n",
    "\n"
   ]
  }
 ],
 "metadata": {
  "celltoolbar": "Slideshow",
  "kernelspec": {
   "display_name": "Python2 (systemia-research)",
   "language": "python",
   "name": "systemia-research"
  },
  "language_info": {
   "codemirror_mode": {
    "name": "ipython",
    "version": 2
   },
   "file_extension": ".py",
   "mimetype": "text/x-python",
   "name": "python",
   "nbconvert_exporter": "python",
   "pygments_lexer": "ipython2",
   "version": "2.7.9"
  }
 },
 "nbformat": 4,
 "nbformat_minor": 1
}
